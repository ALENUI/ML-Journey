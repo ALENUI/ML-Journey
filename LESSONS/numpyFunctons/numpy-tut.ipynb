{
 "cells": [
  {
   "cell_type": "code",
   "execution_count": 62,
   "id": "732ec46b",
   "metadata": {},
   "outputs": [],
   "source": [
    "import numpy as np"
   ]
  },
  {
   "cell_type": "markdown",
   "id": "4e24384e",
   "metadata": {},
   "source": [
    "list Vs Numpy - Time Taken"
   ]
  },
  {
   "cell_type": "code",
   "execution_count": 63,
   "id": "c8a5cce7",
   "metadata": {},
   "outputs": [],
   "source": [
    "from time import process_time"
   ]
  },
  {
   "cell_type": "markdown",
   "id": "aaf4d926",
   "metadata": {},
   "source": [
    "Time taken for task in List "
   ]
  },
  {
   "cell_type": "code",
   "execution_count": 64,
   "id": "7833604e",
   "metadata": {},
   "outputs": [
    {
     "name": "stdout",
     "output_type": "stream",
     "text": [
      "0.078125\n"
     ]
    }
   ],
   "source": [
    "python_list = [i for i in range(1000000)]\n",
    "\n",
    "start_time =process_time()\n",
    "\n",
    "python_list = [i+5 for i in python_list]\n",
    "\n",
    "end_time = process_time()\n",
    "\n",
    "print(end_time - start_time)"
   ]
  },
  {
   "cell_type": "code",
   "execution_count": 65,
   "id": "8aa3c160",
   "metadata": {},
   "outputs": [
    {
     "name": "stdout",
     "output_type": "stream",
     "text": [
      "0.0\n"
     ]
    }
   ],
   "source": [
    "np_array = np.array([i for i in range(1000000)])\n",
    "\n",
    "start_time = process_time()\n",
    "\n",
    "np_array+=5\n",
    "\n",
    "end_time = process_time()\n",
    "\n",
    "print(end_time - start_time)"
   ]
  },
  {
   "cell_type": "code",
   "execution_count": null,
   "id": "20d9481e",
   "metadata": {},
   "outputs": [],
   "source": []
  },
  {
   "cell_type": "markdown",
   "id": "1fa55317",
   "metadata": {},
   "source": [
    "Numpy Arrays"
   ]
  },
  {
   "cell_type": "code",
   "execution_count": 66,
   "id": "f8501606",
   "metadata": {},
   "outputs": [
    {
     "name": "stdout",
     "output_type": "stream",
     "text": [
      "[1, 2, 3, 4, 5]\n"
     ]
    },
    {
     "data": {
      "text/plain": [
       "list"
      ]
     },
     "execution_count": 66,
     "metadata": {},
     "output_type": "execute_result"
    }
   ],
   "source": [
    "#initiating  a list\n",
    "\n",
    "list1 = [1,2,3,4,5]\n",
    "print(list1)\n",
    "type(list1)"
   ]
  },
  {
   "cell_type": "code",
   "execution_count": 67,
   "id": "d8202a82",
   "metadata": {},
   "outputs": [
    {
     "name": "stdout",
     "output_type": "stream",
     "text": [
      "[1 2 3 4 5]\n"
     ]
    },
    {
     "data": {
      "text/plain": [
       "numpy.ndarray"
      ]
     },
     "execution_count": 67,
     "metadata": {},
     "output_type": "execute_result"
    }
   ],
   "source": [
    "#initializing numpy array\n",
    "np_array = np.array([1,2,3,4,5])\n",
    "print(np_array)\n",
    "type(np_array)"
   ]
  },
  {
   "cell_type": "code",
   "execution_count": 68,
   "id": "9e05b8d3",
   "metadata": {},
   "outputs": [
    {
     "data": {
      "text/plain": [
       "(4,)"
      ]
     },
     "execution_count": 68,
     "metadata": {},
     "output_type": "execute_result"
    }
   ],
   "source": [
    "#creating a 1D array\n",
    "a= np.array([1,2,3,4])\n",
    "a.shape\n"
   ]
  },
  {
   "cell_type": "code",
   "execution_count": 69,
   "id": "630bd07c",
   "metadata": {},
   "outputs": [
    {
     "data": {
      "text/plain": [
       "(2, 3)"
      ]
     },
     "execution_count": 69,
     "metadata": {},
     "output_type": "execute_result"
    }
   ],
   "source": [
    "#creating 2D Array\n",
    "b = np.array([(1,2,3),(4,5,6)])\n",
    "b.shape"
   ]
  },
  {
   "cell_type": "code",
   "execution_count": 70,
   "id": "6b611178",
   "metadata": {},
   "outputs": [
    {
     "name": "stdout",
     "output_type": "stream",
     "text": [
      "[[1. 2. 3. 4.]\n",
      " [5. 6. 7. 8.]]\n"
     ]
    }
   ],
   "source": [
    "#creating array with floating values\n",
    "\n",
    "c = np.array([(1,2,3,4),(5,6,7,8)], dtype=float)\n",
    "print(c)"
   ]
  },
  {
   "cell_type": "code",
   "execution_count": 71,
   "id": "47f2cfb5",
   "metadata": {},
   "outputs": [
    {
     "name": "stdout",
     "output_type": "stream",
     "text": [
      "[[0. 0. 0. 0. 0.]\n",
      " [0. 0. 0. 0. 0.]\n",
      " [0. 0. 0. 0. 0.]\n",
      " [0. 0. 0. 0. 0.]]\n",
      "[[1. 1. 1.]\n",
      " [1. 1. 1.]\n",
      " [1. 1. 1.]]\n",
      "[[5 5 5 5]\n",
      " [5 5 5 5]\n",
      " [5 5 5 5]\n",
      " [5 5 5 5]\n",
      " [5 5 5 5]]\n"
     ]
    }
   ],
   "source": [
    "#setting initial placeholders in numpy arrays\n",
    "\n",
    "v=np.zeros((4,5)) # creates a 4x5 matrix with all values as Zeros\n",
    "print(v)\n",
    "b = np.ones((3,3)) # creates a 3x3 matrix array with all vlues as ones\n",
    "print(b)\n",
    "u = np.full((5,4),5) # creates a 5x4 array with all vlues as 5\n",
    "print(u)"
   ]
  },
  {
   "cell_type": "code",
   "execution_count": 72,
   "id": "17a9ba70",
   "metadata": {},
   "outputs": [
    {
     "name": "stdout",
     "output_type": "stream",
     "text": [
      "[[1. 0. 0. 0. 0. 0. 0. 0.]\n",
      " [0. 1. 0. 0. 0. 0. 0. 0.]\n",
      " [0. 0. 1. 0. 0. 0. 0. 0.]\n",
      " [0. 0. 0. 1. 0. 0. 0. 0.]\n",
      " [0. 0. 0. 0. 1. 0. 0. 0.]\n",
      " [0. 0. 0. 0. 0. 1. 0. 0.]\n",
      " [0. 0. 0. 0. 0. 0. 1. 0.]\n",
      " [0. 0. 0. 0. 0. 0. 0. 1.]]\n"
     ]
    }
   ],
   "source": [
    "# creating an identity matrics\n",
    "\n",
    "j = np.eye(8) #creates an identity matric with 8x8 shape\n",
    "print(j)"
   ]
  },
  {
   "cell_type": "code",
   "execution_count": 73,
   "id": "b5784c54",
   "metadata": {},
   "outputs": [
    {
     "name": "stdout",
     "output_type": "stream",
     "text": [
      "[[0.83260142 0.74850802 0.64489554 0.30054713]\n",
      " [0.57936037 0.46267116 0.53835912 0.7445399 ]\n",
      " [0.7844835  0.19764843 0.68938155 0.78450733]]\n",
      "[[81 54 14 82 62]\n",
      " [24 13 69 85 36]\n",
      " [98 61 83 78 90]]\n",
      "[10. 15. 20. 25. 30.]\n"
     ]
    }
   ],
   "source": [
    "#creating np array with random values\n",
    "\n",
    "o = np.random.random((3,4)) # creates a 3x4 array with 0 < random vlaues < 1\n",
    "print(o)\n",
    "\n",
    "#random intervalues within specific range\n",
    "\n",
    "g = np.random.randint(10,100, (3,5)) # creates a 3x5 matric within range 10 and 100\n",
    "print(g)\n",
    "\n",
    "#array of evenly spaced values\n",
    "n = np.linspace(10,30,5) # creates a 1d array with values between 10 and 30 with diffrence of 5 between the numbers\n",
    "print (n)"
   ]
  },
  {
   "cell_type": "markdown",
   "id": "8f6754ef",
   "metadata": {},
   "source": [
    "Analysing a Numpy Array"
   ]
  },
  {
   "cell_type": "code",
   "execution_count": 74,
   "id": "d8a9154f",
   "metadata": {},
   "outputs": [
    {
     "name": "stdout",
     "output_type": "stream",
     "text": [
      "[[80 33 50 45 63]\n",
      " [24 44 58 23 78]\n",
      " [12 82 76 59 35]\n",
      " [37 56 85 37 60]\n",
      " [57 89 81 53 41]]\n",
      "Array shape\n",
      "(5, 5)\n",
      "number of Dimention\n",
      "2\n",
      "number of elements in array\n",
      "25\n",
      "data types of values in array\n",
      "int32\n"
     ]
    }
   ],
   "source": [
    "c = np.random.randint(10,90, (5,5))\n",
    "print (c)\n",
    "\n",
    "#array Dimention\n",
    "print(\"Array shape\")\n",
    "print (c.shape)\n",
    "\n",
    "#number of dimensions\n",
    "print(\"number of Dimention\")\n",
    "print(c.ndim)\n",
    "\n",
    "#number of elements in array\n",
    "print(\"number of elements in array\")\n",
    "print(c.size)\n",
    "\n",
    "#datatype of valyes in array\n",
    "print(\"data types of values in array\")\n",
    "\n",
    "print(c.dtype)"
   ]
  },
  {
   "cell_type": "markdown",
   "id": "ecf8d0c5",
   "metadata": {},
   "source": [
    "Mathematical Operations on an np array"
   ]
  },
  {
   "cell_type": "code",
   "execution_count": 75,
   "id": "291e7a4f",
   "metadata": {},
   "outputs": [
    {
     "name": "stdout",
     "output_type": "stream",
     "text": [
      "[1, 2, 3, 4, 5, 6, 3, 4, 5, 6, 7, 8]\n"
     ]
    }
   ],
   "source": [
    "# for relular list, the \"+\" concantinates the list \n",
    "list1 = [1,2,3,4,5,6]\n",
    "list2 = [3,4,5,6,7,8]\n",
    "\n",
    "print(list1+list2) # concatenetes\n",
    "\n"
   ]
  },
  {
   "cell_type": "code",
   "execution_count": 76,
   "id": "47ad4232",
   "metadata": {},
   "outputs": [
    {
     "name": "stdout",
     "output_type": "stream",
     "text": [
      "addition\n",
      "[[39 35 32]\n",
      " [33 37 42]\n",
      " [34 45 34]]\n",
      "subtraction\n",
      "[[-23 -35 -28]\n",
      " [-27 -37 -32]\n",
      " [-28 -33 -30]]\n",
      "Multiply\n",
      "[[248   0  60]\n",
      " [ 90   0 185]\n",
      " [ 93 234  64]]\n",
      "divide\n",
      "[[0.25806452 0.         0.06666667]\n",
      " [0.1        0.         0.13513514]\n",
      " [0.09677419 0.15384615 0.0625    ]]\n"
     ]
    }
   ],
   "source": [
    "# for nimpy arrays\n",
    "\n",
    "a = np.random.randint(0,10,(3,3))\n",
    "b = np.random.randint(30,40,(3,3))\n",
    "\n",
    "print (\"addition\")\n",
    "print(a+b)\n",
    "print(\"subtraction\")\n",
    "print(a-b)\n",
    "print(\"Multiply\")\n",
    "print(a*b)\n",
    "print(\"divide\")\n",
    "print(a/b)"
   ]
  },
  {
   "cell_type": "code",
   "execution_count": 77,
   "id": "040cc356",
   "metadata": {},
   "outputs": [
    {
     "name": "stdout",
     "output_type": "stream",
     "text": [
      "[[39 35 32]\n",
      " [33 37 42]\n",
      " [34 45 34]]\n",
      "[[-23 -35 -28]\n",
      " [-27 -37 -32]\n",
      " [-28 -33 -30]]\n",
      "[[248   0  60]\n",
      " [ 90   0 185]\n",
      " [ 93 234  64]]\n",
      "[[0.25806452 0.         0.06666667]\n",
      " [0.1        0.         0.13513514]\n",
      " [0.09677419 0.15384615 0.0625    ]]\n"
     ]
    }
   ],
   "source": [
    "#using math fuctions\n",
    "\n",
    "print(np.add(a,b))\n",
    "print(np.subtract(a,b))\n",
    "print(np.multiply(a,b))\n",
    "print(np.divide(a,b))"
   ]
  },
  {
   "cell_type": "markdown",
   "id": "56934de9",
   "metadata": {},
   "source": [
    "Array Manipulation"
   ]
  },
  {
   "cell_type": "code",
   "execution_count": 78,
   "id": "dd4941bc",
   "metadata": {},
   "outputs": [
    {
     "name": "stdout",
     "output_type": "stream",
     "text": [
      "[[1 8 2]\n",
      " [9 4 0]]\n",
      "shape:  (2, 3)\n",
      "transpose\n",
      "[[1 9]\n",
      " [8 4]\n",
      " [2 0]]\n",
      "shape:  (3, 2)\n",
      "\n",
      "alternate transpose way\n",
      "[[1 9]\n",
      " [8 4]\n",
      " [2 0]]\n",
      "shape:  [[1 9]\n",
      " [8 4]\n",
      " [2 0]]\n"
     ]
    }
   ],
   "source": [
    "array = np.random.randint(0,10,(2,3))\n",
    "print(array)\n",
    "print(\"shape: \", array.shape)\n",
    "\n",
    "#transpose\n",
    "print(\"transpose\")\n",
    "trans_array = np.transpose(array)\n",
    "print(trans_array)\n",
    "print(\"shape: \", trans_array.shape)\n",
    "\n",
    "#altternate transpose\n",
    "print(\"\\nalternate transpose way\")\n",
    "trans2_array = array.T\n",
    "print(trans2_array)\n",
    "print(\"shape: \", trans2_array)"
   ]
  },
  {
   "cell_type": "code",
   "execution_count": 79,
   "id": "ca7ad577",
   "metadata": {},
   "outputs": [
    {
     "name": "stdout",
     "output_type": "stream",
     "text": [
      "old shape:  [[0 6 5]\n",
      " [3 1 4]]\n",
      "New SHape: \n",
      "[[0 6]\n",
      " [5 3]\n",
      " [1 4]]\n",
      "shape:  (3, 2)\n"
     ]
    }
   ],
   "source": [
    "#reshaping array \n",
    "a= np.random.randint(0,10,(2,3))\n",
    "print(\"old shape: \", a)\n",
    "\n",
    "print(\"New SHape: \")\n",
    "reshaped = a.reshape(3,2)\n",
    "print(reshaped)\n",
    "\n",
    "print(\"shape: \",reshaped.shape)"
   ]
  },
  {
   "cell_type": "code",
   "execution_count": null,
   "id": "81e02b9d",
   "metadata": {},
   "outputs": [],
   "source": []
  }
 ],
 "metadata": {
  "kernelspec": {
   "display_name": "base",
   "language": "python",
   "name": "python3"
  },
  "language_info": {
   "codemirror_mode": {
    "name": "ipython",
    "version": 3
   },
   "file_extension": ".py",
   "mimetype": "text/x-python",
   "name": "python",
   "nbconvert_exporter": "python",
   "pygments_lexer": "ipython3",
   "version": "3.11.7"
  }
 },
 "nbformat": 4,
 "nbformat_minor": 5
}
